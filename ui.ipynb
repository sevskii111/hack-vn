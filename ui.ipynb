{
 "cells": [
  {
   "cell_type": "code",
   "execution_count": 1,
   "source": [
    "import docx\n",
    "from utils import *\n",
    "from fastai.text.all import *\n",
    "import ipywidgets as widgets\n",
    "import uuid\n",
    "from IPython.display import FileLink"
   ],
   "outputs": [],
   "metadata": {}
  },
  {
   "cell_type": "code",
   "execution_count": 2,
   "source": [
    "out_input = widgets.Output()\n",
    "out_input"
   ],
   "outputs": [
    {
     "output_type": "display_data",
     "data": {
      "application/vnd.jupyter.widget-view+json": {
       "version_major": 2,
       "version_minor": 0,
       "model_id": "f2b9839952b04ed58aa813f518e12518"
      },
      "text/plain": [
       "Output()"
      ]
     },
     "metadata": {}
    }
   ],
   "metadata": {}
  },
  {
   "cell_type": "code",
   "execution_count": 3,
   "source": [
    "with out_input:\n",
    "    print(\"Идёт загрузка...\")"
   ],
   "outputs": [],
   "metadata": {}
  },
  {
   "cell_type": "code",
   "execution_count": 4,
   "source": [
    "import torch\n",
    "learn = load_learner('./models/model_50', cpu=not torch.cuda.is_available())"
   ],
   "outputs": [],
   "metadata": {}
  },
  {
   "cell_type": "code",
   "execution_count": 5,
   "source": [
    "def npa_to_items_test(npa):\n",
    "    items = []\n",
    "    for doc in npa:\n",
    "        for point, point_text in doc.items():\n",
    "            items.append((point, '\\n'.join(point_text)))\n",
    "    return items\n",
    "\n",
    "def predict(edition_doc):\n",
    "    result = []\n",
    "    npa_items = npa_to_items_test(parse_npa(edition_doc))\n",
    "    npa_df = pd.DataFrame(npa_items, columns=['point', 'text'])\n",
    "    test_dl = learn.dls.test_dl(npa_df)\n",
    "    predictions = learn.get_preds(dl=test_dl)\n",
    "    threshold = 0.5\n",
    "    for point, prediction in zip(npa_df['point'].values, predictions[0]):\n",
    "        factors_3 = []\n",
    "        factors_4 = []\n",
    "        for pred, factor in zip(prediction, FACTORS):\n",
    "            if pred > threshold:\n",
    "                if factor[0] == '3':\n",
    "                    factors_3.append(factor[1])\n",
    "                else:\n",
    "                    factors_4.append(factor[1])\n",
    "        if len(factors_3) > 0:\n",
    "            result.append(('3', factors_3, point))\n",
    "        if len(factors_4) > 0:\n",
    "            result.append(('4', factors_4, point))\n",
    "\n",
    "    return result"
   ],
   "outputs": [],
   "metadata": {}
  },
  {
   "cell_type": "code",
   "execution_count": 6,
   "source": [
    "uploader = widgets.FileUpload(accept='.docx', multiple=False)\n",
    "\n",
    "out_input.clear_output()\n",
    "with out_input:\n",
    "    print(\"Загрузите НПА сюда:\")\n",
    "    display(uploader)"
   ],
   "outputs": [],
   "metadata": {}
  },
  {
   "cell_type": "code",
   "execution_count": 7,
   "source": [
    "out = widgets.Output()\n",
    "out"
   ],
   "outputs": [
    {
     "output_type": "display_data",
     "data": {
      "application/vnd.jupyter.widget-view+json": {
       "version_major": 2,
       "version_minor": 0,
       "model_id": "7ed5ef34741645cbbe9e5c3db3a9ef3c"
      },
      "text/plain": [
       "Output()"
      ]
     },
     "metadata": {}
    }
   ],
   "metadata": {}
  },
  {
   "cell_type": "code",
   "execution_count": 8,
   "source": [
    "docs_folder = Path() / 'docs'\n",
    "\n",
    "def on_upload_change(change):\n",
    "    out.clear_output()\n",
    "    with out:\n",
    "        if change.new == 0: return\n",
    "        doc_id = uuid.uuid4()\n",
    "        file_path = docs_folder / f'{doc_id}.docx'\n",
    "        file_result_path = docs_folder / f'{doc_id}_result.docx'\n",
    "        with open(file_path, 'wb') as file:\n",
    "            file.write(list(uploader.value.values())[0][\"content\"])\n",
    "        uploader._counter = 0\n",
    "        npa_highlight(file_path, predict(docx.Document(file_path)), file_result_path)\n",
    "        print('НПА с отмеченными потенциальными коррупциогенными факторами:')\n",
    "        display(FileLink(file_result_path))\n",
    "\n",
    "uploader.observe(on_upload_change, names='_counter')"
   ],
   "outputs": [],
   "metadata": {}
  }
 ],
 "metadata": {
  "interpreter": {
   "hash": "8a2c2d3b1fc8c5cf645dbb47140b5f323f0d6bad273590866dffbce7d6bad561"
  },
  "kernelspec": {
   "name": "python3",
   "display_name": "Python 3.9.7 64-bit ('hack-vn': conda)"
  },
  "language_info": {
   "codemirror_mode": {
    "name": "ipython",
    "version": 3
   },
   "file_extension": ".py",
   "mimetype": "text/x-python",
   "name": "python",
   "nbconvert_exporter": "python",
   "pygments_lexer": "ipython3",
   "version": "3.9.7"
  }
 },
 "nbformat": 4,
 "nbformat_minor": 4
}